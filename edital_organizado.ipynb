{
  "nbformat": 4,
  "nbformat_minor": 0,
  "metadata": {
    "colab": {
      "name": "Untitled11.ipynb",
      "provenance": [],
      "authorship_tag": "ABX9TyOyKfIX8YZMY1O4YC+wS3xT",
      "include_colab_link": true
    },
    "kernelspec": {
      "name": "python3",
      "display_name": "Python 3"
    },
    "language_info": {
      "name": "python"
    }
  },
  "cells": [
    {
      "cell_type": "markdown",
      "metadata": {
        "id": "view-in-github",
        "colab_type": "text"
      },
      "source": [
        "<a href=\"https://colab.research.google.com/github/alexsandro-matias/edital_organizado/blob/main/edital_organizado.ipynb\" target=\"_parent\"><img src=\"https://colab.research.google.com/assets/colab-badge.svg\" alt=\"Open In Colab\"/></a>"
      ]
    },
    {
      "cell_type": "markdown",
      "source": [
        "## Importando os módulos necessários para download e leitura do edital."
      ],
      "metadata": {
        "id": "EiRv32v-ADvN"
      }
    },
    {
      "cell_type": "code",
      "source": [
        "import requests\n"
      ],
      "metadata": {
        "id": "Nn01A2E39Po-"
      },
      "execution_count": 1,
      "outputs": []
    },
    {
      "cell_type": "markdown",
      "source": [
        "## Realizando o download do arquivo .pdf do edital\n",
        "\n"
      ],
      "metadata": {
        "id": "0BnUY3iL_6q0"
      }
    },
    {
      "cell_type": "code",
      "execution_count": 2,
      "metadata": {
        "id": "IdaZ9AB8jglO"
      },
      "outputs": [],
      "source": [
        "link = 'https://cdn.cebraspe.org.br/concursos/petrobras_21_ns/arquivos/ED_1_PETROBRAS_PSP1_2021_ABERTURA.PDF'\n",
        "arquivo_baixado = requests.get(link) \n",
        "with open(\"edital.pdf\",'wb') as f:\n",
        "  f.write(arquivo_baixado.content) "
      ]
    },
    {
      "cell_type": "markdown",
      "source": [
        "## Reduzindo o edital para somente a quantidade de páginas que tem contém o conteúdo programático"
      ],
      "metadata": {
        "id": "YIc0pd8-FPCi"
      }
    },
    {
      "cell_type": "code",
      "source": [
        "\n",
        "!pip install PyPDF2\n"
      ],
      "metadata": {
        "id": "IQzYmsUlFq9k",
        "outputId": "c647437c-e47d-447d-9a93-3f3247e9541a",
        "colab": {
          "base_uri": "https://localhost:8080/"
        }
      },
      "execution_count": 3,
      "outputs": [
        {
          "output_type": "stream",
          "name": "stdout",
          "text": [
            "Requirement already satisfied: PyPDF2 in /usr/local/lib/python3.7/dist-packages (1.27.9)\n"
          ]
        }
      ]
    },
    {
      "cell_type": "code",
      "source": [
        "\n",
        "from PyPDF2 import PdfFileWriter, PdfFileReader\n",
        "\n",
        "edital = PdfFileReader(\"edital.pdf\")\n",
        "arquivo_reduzido = PdfFileWriter()\n",
        "\n",
        "inicio = 31\n",
        "final = 35\n",
        "\n",
        "def reduzir_edital(pagina_inicial, pagina_final):\n",
        "    for i in range(pagina_inicial - 1, pagina_final - 1):\n",
        "        arquivo_reduzido.addPage(edital.getPage(i))\n",
        "        with open(\"conteudo_programatico.pdf\", \"wb\") as arquivo_de_saida:\n",
        "            arquivo_reduzido.write(arquivo_de_saida)\n",
        "\n",
        "\n",
        "reduzir_edital(inicio, final)"
      ],
      "metadata": {
        "id": "kYkQ6i5QED0R"
      },
      "execution_count": 4,
      "outputs": []
    },
    {
      "cell_type": "markdown",
      "source": [
        "## Utilizando pacotes para converter o pdf para texto."
      ],
      "metadata": {
        "id": "X8nTfzlcMlAS"
      }
    },
    {
      "cell_type": "markdown",
      "source": [
        "#### Possibilidade 01 - textract"
      ],
      "metadata": {
        "id": "vOfZZwupItDq"
      }
    },
    {
      "cell_type": "code",
      "source": [
        "pip install textract"
      ],
      "metadata": {
        "colab": {
          "base_uri": "https://localhost:8080/"
        },
        "id": "tiR7HFyhI6sz",
        "outputId": "f89aabea-f724-4dfe-ecc0-8f60d14d6894"
      },
      "execution_count": 5,
      "outputs": [
        {
          "output_type": "stream",
          "name": "stdout",
          "text": [
            "Requirement already satisfied: textract in /usr/local/lib/python3.7/dist-packages (1.6.5)\n",
            "Requirement already satisfied: SpeechRecognition~=3.8.1 in /usr/local/lib/python3.7/dist-packages (from textract) (3.8.1)\n",
            "Requirement already satisfied: beautifulsoup4~=4.8.0 in /usr/local/lib/python3.7/dist-packages (from textract) (4.8.2)\n",
            "Requirement already satisfied: docx2txt~=0.8 in /usr/local/lib/python3.7/dist-packages (from textract) (0.8)\n",
            "Requirement already satisfied: xlrd~=1.2.0 in /usr/local/lib/python3.7/dist-packages (from textract) (1.2.0)\n",
            "Requirement already satisfied: extract-msg<=0.29.* in /usr/local/lib/python3.7/dist-packages (from textract) (0.28.7)\n",
            "Requirement already satisfied: chardet==3.* in /usr/local/lib/python3.7/dist-packages (from textract) (3.0.4)\n",
            "Requirement already satisfied: six~=1.12.0 in /usr/local/lib/python3.7/dist-packages (from textract) (1.12.0)\n",
            "Requirement already satisfied: argcomplete~=1.10.0 in /usr/local/lib/python3.7/dist-packages (from textract) (1.10.3)\n",
            "Requirement already satisfied: pdfminer.six==20191110 in /usr/local/lib/python3.7/dist-packages (from textract) (20191110)\n",
            "Requirement already satisfied: python-pptx~=0.6.18 in /usr/local/lib/python3.7/dist-packages (from textract) (0.6.21)\n",
            "Requirement already satisfied: pycryptodome in /usr/local/lib/python3.7/dist-packages (from pdfminer.six==20191110->textract) (3.14.1)\n",
            "Requirement already satisfied: sortedcontainers in /usr/local/lib/python3.7/dist-packages (from pdfminer.six==20191110->textract) (2.4.0)\n",
            "Requirement already satisfied: soupsieve>=1.2 in /usr/local/lib/python3.7/dist-packages (from beautifulsoup4~=4.8.0->textract) (2.3.2.post1)\n",
            "Requirement already satisfied: compressed-rtf>=1.0.6 in /usr/local/lib/python3.7/dist-packages (from extract-msg<=0.29.*->textract) (1.0.6)\n",
            "Requirement already satisfied: olefile>=0.46 in /usr/local/lib/python3.7/dist-packages (from extract-msg<=0.29.*->textract) (0.46)\n",
            "Requirement already satisfied: imapclient==2.1.0 in /usr/local/lib/python3.7/dist-packages (from extract-msg<=0.29.*->textract) (2.1.0)\n",
            "Requirement already satisfied: tzlocal>=2.1 in /usr/local/lib/python3.7/dist-packages (from extract-msg<=0.29.*->textract) (4.2)\n",
            "Requirement already satisfied: ebcdic>=1.1.1 in /usr/local/lib/python3.7/dist-packages (from extract-msg<=0.29.*->textract) (1.1.1)\n",
            "Requirement already satisfied: Pillow>=3.3.2 in /usr/local/lib/python3.7/dist-packages (from python-pptx~=0.6.18->textract) (7.1.2)\n",
            "Requirement already satisfied: XlsxWriter>=0.5.7 in /usr/local/lib/python3.7/dist-packages (from python-pptx~=0.6.18->textract) (3.0.3)\n",
            "Requirement already satisfied: lxml>=3.1.0 in /usr/local/lib/python3.7/dist-packages (from python-pptx~=0.6.18->textract) (4.2.6)\n",
            "Requirement already satisfied: backports.zoneinfo in /usr/local/lib/python3.7/dist-packages (from tzlocal>=2.1->extract-msg<=0.29.*->textract) (0.2.1)\n",
            "Requirement already satisfied: pytz-deprecation-shim in /usr/local/lib/python3.7/dist-packages (from tzlocal>=2.1->extract-msg<=0.29.*->textract) (0.1.0.post0)\n",
            "Requirement already satisfied: tzdata in /usr/local/lib/python3.7/dist-packages (from pytz-deprecation-shim->tzlocal>=2.1->extract-msg<=0.29.*->textract) (2022.1)\n"
          ]
        }
      ]
    },
    {
      "cell_type": "code",
      "source": [
        "import textract\n",
        "texto_textract = textract.process(\"conteudo_programatico.pdf\")\n",
        "print(texto_textract)  "
      ],
      "metadata": {
        "id": "1Rjq6ZxXImq2",
        "outputId": "baf37bef-4529-4681-a7e3-93efddced80c",
        "colab": {
          "base_uri": "https://localhost:8080/"
        }
      },
      "execution_count": 6,
      "outputs": [
        {
          "output_type": "stream",
          "name": "stdout",
          "text": [
            "b' \\n\\n \\n\\n \\n\\n \\n\\nPETR\\xc3\\x93LEO BRASILEIRO S.A. - PETROBRAS \\n\\nPSP RH 2021.1 \\n\\nANEXO III \\xe2\\x80\\x93 OBJETOS DE AVALIA\\xc3\\x87\\xc3\\x83O  \\n\\nCONHECIMENTOS B\\xc3\\x81SICOS  \\n\\n  \\n\\n  \\n\\nL\\xc3\\x8dNGUA  PORTUGUESA  1  Compreens\\xc3\\xa3o  e  interpreta\\xc3\\xa7\\xc3\\xa3o  de  textos  de  g\\xc3\\xaaneros  variados.  2  Reconhecimento  de  33  tipos  e \\n\\ng\\xc3\\xaaneros textuais. 3 Dom\\xc3\\xadnio da ortografia oficial. 4 Dom\\xc3\\xadnio dos mecanismos de coes\\xc3\\xa3o textual. 4.1 Emprego de elementos de \\n\\nreferencia\\xc3\\xa7\\xc3\\xa3o, substitui\\xc3\\xa7\\xc3\\xa3o e repeti\\xc3\\xa7\\xc3\\xa3o, de conectores e de outros elementos de sequencia\\xc3\\xa7\\xc3\\xa3o textual. 4.2 Emprego de tempos \\n\\ne  modos  verbais.  5  Dom\\xc3\\xadnio da  estrutura  morfossint\\xc3\\xa1tica  do  per\\xc3\\xadodo.  5.1  Emprego  das classes  de  palavras.  5.2  Rela\\xc3\\xa7\\xc3\\xb5es  de \\n\\ncoordena\\xc3\\xa7\\xc3\\xa3o entre ora\\xc3\\xa7\\xc3\\xb5es e entre termos da ora\\xc3\\xa7\\xc3\\xa3o. 5.3 Rela\\xc3\\xa7\\xc3\\xb5es de subordina\\xc3\\xa7\\xc3\\xa3o entre ora\\xc3\\xa7\\xc3\\xb5es e entre termos da ora\\xc3\\xa7\\xc3\\xa3o. \\n\\n5.4 Emprego dos sinais de pontua\\xc3\\xa7\\xc3\\xa3o. 5.5 Concord\\xc3\\xa2ncia verbal e nominal. 5.6 Reg\\xc3\\xaancia verbal e nominal. 5.7 Emprego do sinal \\n\\nindicativo  de  crase.  5.8  Coloca\\xc3\\xa7\\xc3\\xa3o  dos  pronomes  \\xc3\\xa1tonos.  6  Reescrita  de  frases  e  par\\xc3\\xa1grafos  do  texto.  6.1  Significa\\xc3\\xa7\\xc3\\xa3o  das \\n\\npalavras. 6.2 Substitui\\xc3\\xa7\\xc3\\xa3o de palavras ou de trechos de texto. 6.3 Reorganiza\\xc3\\xa7\\xc3\\xa3o da estrutura de ora\\xc3\\xa7\\xc3\\xb5es e de per\\xc3\\xadodos do texto. \\n\\n6.4 Reescrita de textos de diferentes g\\xc3\\xaaneros e n\\xc3\\xadveis de formalidade. \\n\\nL\\xc3\\x8dNGUA INGLESA 1 Compreens\\xc3\\xa3o de textos escritos em l\\xc3\\xadngua inglesa. 2 Itens gramaticais relevantes para o entendimento dos \\n\\nsentidos dos textos. \\n\\nCONHECIMENTOS ESPEC\\xc3\\x8dFICOS  \\n\\n\\xc3\\x8aNFASE  1:  ADMINISTRA\\xc3\\x87\\xc3\\x83O  \\xe2\\x80\\x93  BLOCO  I:  1  Estrat\\xc3\\xa9gia  Empresarial:  Estruturas  Organizacionais,  Estrat\\xc3\\xa9gia  Organizacional, \\n\\nPlanejamento Estrat\\xc3\\xa9gico Empresarial. 2 Administra\\xc3\\xa7\\xc3\\xa3o da Produ\\xc3\\xa7\\xc3\\xa3o e Compras: Estrat\\xc3\\xa9gia de Suprimento (Strategic Sourcing); \\n\\nAdministra\\xc3\\xa7\\xc3\\xa3o  de  Compras; Gest\\xc3\\xa3o  de  Estoques:  MRP,  Ponto  de  Ressuprimento,  Lote Econ\\xc3\\xb4mico  de  Compra,  Just  in  Time, \\n\\nSistema de Rastreamento de Materiais (RFID, C\\xc3\\xb3digo de Barras e Unique Identification Device); Planejamento e Controle da \\n\\nProdu\\xc3\\xa7\\xc3\\xa3o; Gest\\xc3\\xa3o da Cadeia de Suprimentos (Supply Chain Management). 3 Administra\\xc3\\xa7\\xc3\\xa3o Mercadol\\xc3\\xb3gica: Marketing, Marketing \\n\\nB2B, Marketing de Servi\\xc3\\xa7os, Pesquisa de Mercado, Planejamento de Marketing, Estrat\\xc3\\xa9gias de Marketing, Relacionamento com \\n\\nClientes,  Gest\\xc3\\xa3o  Comercial,  Com\\xc3\\xa9rcio  Exterior,  Marca,  M\\xc3\\xaddias  digitais,  Com\\xc3\\xa9rcio  Eletr\\xc3\\xb4nico.  4  Administra\\xc3\\xa7\\xc3\\xa3o  de  Recursos \\n\\nHumanos: Estrat\\xc3\\xa9gias de RH, Relacionamento com P\\xc3\\xbablicos de Interesse, Remunera\\xc3\\xa7\\xc3\\xa3o e Benef\\xc3\\xadcios, Desempenho, Cultura \\n\\nOrganizacional, Desenvolvimento de RH, Gest\\xc3\\xa3o do Conhecimento, Carreira e Sucess\\xc3\\xa3o, Lideran\\xc3\\xa7a e Equipe. 5 Administra\\xc3\\xa7\\xc3\\xa3o \\n\\nFinanceira  e  Or\\xc3\\xa7ament\\xc3\\xa1ria:  Matem\\xc3\\xa1tica  Financeira,  Valor  do  Dinheiro  no  Tempo,  Risco  x  Retorno,  An\\xc3\\xa1lise  de  Investimentos, \\n\\nAlavancagem  e  Endividamento,  Planejamento  Financeiro  e  Or\\xc3\\xa7ament\\xc3\\xa1rio,  Administra\\xc3\\xa7\\xc3\\xa3o  do  Capital  de  Giro,  Fontes  de \\n\\nFinanciamento \\xc3\\xa0 Longo Prazo.  BLOCO II: 1 Administra\\xc3\\xa7\\xc3\\xa3o de Sistemas de Informa\\xc3\\xa7\\xc3\\xa3o: sistemas operacionais e sistemas de \\n\\napoio \\xc3\\xa0 decis\\xc3\\xa3o 2 Contabilidade: Contabilidade Geral, Contabilidade de Custos, Contabilidade Gerencial. 3 Processo Decis\\xc3\\xb3rio. \\n\\n4  Sustentabilidade  e  Responsabilidade  Socioambiental.  BLOCO  III:  1  L\\xc3\\xb3gica:  Fun\\xc3\\xa7\\xc3\\xb5es,  An\\xc3\\xa1lise  Combinat\\xc3\\xb3ria,  Progress\\xc3\\xb5es, \\n\\nRacioc\\xc3\\xadnio L\\xc3\\xb3gico Quantitativo. 2 Estat\\xc3\\xadstica: Probabilidade, Estat\\xc3\\xadstica Descritiva. 3 Gerenciamento de Projetos: Ciclo de Vida; \\n\\nEstrutura anal\\xc3\\xadtica de projeto; Estudo de viabilidade t\\xc3\\xa9cnica e econ\\xc3\\xb4mica, Gerenciamento das Aquisi\\xc3\\xa7\\xc3\\xb5es do Projeto. 4 Conflitos \\n\\ne Negocia\\xc3\\xa7\\xc3\\xa3o.  \\n\\n\\xc3\\x8aNFASE 2: AN\\xc3\\x81LISE \\xe2\\x80\\x93 COM\\xc3\\x89RCIO E SUPRIMENTO \\xe2\\x80\\x93 BLOCO I: 1 Matem\\xc3\\xa1tica, Matem\\xc3\\xa1tica Financeira e Estat\\xc3\\xadstica: Teoria \\n\\ndos Conjuntos; No\\xc3\\xa7\\xc3\\xb5es de L\\xc3\\xb3gica Matem\\xc3\\xa1tica; Matrizes; \\xc3\\x81lgebra Linear; C\\xc3\\xa1lculo Diferencial e Integral; Regra De Tr\\xc3\\xaas Simples e \\n\\nComposta;  Percentagens;  Juros  Simples  e  Compostos;  Capitaliza\\xc3\\xa7\\xc3\\xa3o  e  Desconto;  VPL  e  TIR;  Estat\\xc3\\xadstica  Descritiva; \\n\\nProbabilidade.  2  Economia:  Oferta  e  Demanda;  Consumidores,  Produtores  e  Efici\\xc3\\xaancia  dos  Mercados;  Elasticidade  e  suas \\n\\nAplica\\xc3\\xa7\\xc3\\xb5es. BLOCO II: 1 Log\\xc3\\xadstica: Conceitos de Log\\xc3\\xadstica; Transporte; N\\xc3\\xadvel de Servi\\xc3\\xa7o; Armazenagem e Gest\\xc3\\xa3o de Estoques. \\n\\n2 Marketing: Conceito de Marketing; Planejamento de Marketing; Segmenta\\xc3\\xa7\\xc3\\xa3o de Clientes, Pacotes de Valor, Comportamento \\n\\ndo Comprador B2B, Relacionamento do Cliente, Sistema de Informa\\xc3\\xa7\\xc3\\xb5es de Marketing. 3 No\\xc3\\xa7\\xc3\\xb5es de Com\\xc3\\xa9rcio Exterior. BLOCO \\n\\nIII: 1 Qu\\xc3\\xadmica: Fun\\xc3\\xa7\\xc3\\xb5es Org\\xc3\\xa2nicas e Elementares; Hidrocarbonetos e sua Nomenclatura; Estequiometria de Rea\\xc3\\xa7\\xc3\\xb5es Qu\\xc3\\xadmicas; \\n\\nFun\\xc3\\xa7\\xc3\\xb5es  Inorg\\xc3\\xa2nicas  (\\xc3\\x81cidos,  Bases,  Sais  e  \\xc3\\x93xidos)  e  sua  Nomenclatura;  No\\xc3\\xa7\\xc3\\xb5es  Elementares  de  Qu\\xc3\\xadmica  Geral.  2  F\\xc3\\xadsica: \\n\\nNo\\xc3\\xa7\\xc3\\xb5es  de  Hidrost\\xc3\\xa1tica;  Convers\\xc3\\xa3o  de  Unidades;  Sistema  Internacional;  No\\xc3\\xa7\\xc3\\xb5es  Elementares  de  Termodin\\xc3\\xa2mica  (Primeira  e \\n\\nP\\xc3\\x9aBLICA \\n\\n31 \\n\\n\\x0c \\nSegunda  Leis  da  Termodin\\xc3\\xa2mica);  No\\xc3\\xa7\\xc3\\xb5es  Elementares  de  Transfer\\xc3\\xaancia  de  Calor  (Mecanismos  Simples  de  Condu\\xc3\\xa7\\xc3\\xa3o, \\n\\nConvec\\xc3\\xa7\\xc3\\xa3o e Radia\\xc3\\xa7\\xc3\\xa3o); Lei da Conserva\\xc3\\xa7\\xc3\\xa3o de Energia; Gases Ideais. 3 Temas da atualidade: matriz e transi\\xc3\\xa7\\xc3\\xa3o energ\\xc3\\xa9tica, \\n\\nGeografia econ\\xc3\\xb4mica.  \\n\\n\\xc3\\x8aNFASE 3: AN\\xc3\\x81LISE \\xe2\\x80\\x93 TRANSPORTE MAR\\xc3\\x8dTIMO \\xe2\\x80\\x93 BLOCO I: 1 O navio como equipamento. 2 Aspectos da gest\\xc3\\xa3o n\\xc3\\xa1utica \\n\\n(gest\\xc3\\xa3o n\\xc3\\xa1utica x gest\\xc3\\xa3o comercial). 3 Contrato TCP. 4 Contrato VCP. 5 Contrato COA. 6 Contrato BCP. BLOCO II: 1 Seguros. \\n\\n2 Arbitragem. 3 Compra e venda de navios. 4 Colis\\xc3\\xb5es e abalroamentos. 5 Polui\\xc3\\xa7\\xc3\\xa3o. 6 Responsabilidade Civil. 7 Servi\\xc3\\xa7os de \\n\\napoio ao navio no porto. 8 Mercado mundial de afretamentos. 9 Planejamento de Frota. 10 Avalia\\xc3\\xa7\\xc3\\xa3o econ\\xc3\\xb4mica do navio. Normas \\n\\nde Regulamenta\\xc3\\xa7\\xc3\\xa3o Internacional (IMO) referentes \\xc3\\xa0 descarboniza\\xc3\\xa7\\xc3\\xa3o do Transporte Mar\\xc3\\xadtimo. BLOCO III: 1 Matem\\xc3\\xa1tica: L\\xc3\\xb3gica; \\n\\nConjuntos;  Rela\\xc3\\xa7\\xc3\\xb5es;  Fun\\xc3\\xa7\\xc3\\xb5es;  Logaritmos;  Trigonometria.  C\\xc3\\xa1lculo  Vetorial  e  Matricial;  An\\xc3\\xa1lise  Combinat\\xc3\\xb3ria;  Progress\\xc3\\xb5es  e \\n\\nSistemas de Numera\\xc3\\xa7\\xc3\\xa3o. 2 Estat\\xc3\\xadstica: Probabilidade e Estat\\xc3\\xadstica Descritiva. 3. Matem\\xc3\\xa1tica Financeira. \\n\\n\\xc3\\x8aNFASE 4: ANALISTA DE SISTEMAS \\xe2\\x80\\x93 ENGENHARIA DE SOFTWARE \\xe2\\x80\\x93 BLOCO I: 1. Engenharia de Software. 1.1 Modelos \\n\\nde ciclo de vida de  software. 1.2 Metodologias de desenvolvimento de  software. 1.3 Arquitetura de  software. 1.4 Conceitos e \\n\\nt\\xc3\\xa9cnicas do projeto de software. 1.5 Processos e pr\\xc3\\xa1ticas de desenvolvimento de software. 1.6 Processo interativo e incremental. \\n\\n1.7  Pr\\xc3\\xa1ticas  \\xc3\\xa1geis  de  desenvolvimento  de  software.  1.8  Gerenciamento  de  ciclo  de  vida  de  aplica\\xc3\\xa7\\xc3\\xb5es.  1.9  Desenvolvimento \\n\\norientado por comportamento (BDD). 1.10 Desenvolvimento guiado por testes (TDD). 1.11 Integra\\xc3\\xa7\\xc3\\xa3o cont\\xc3\\xadnua. 1.12 Diagrama \\n\\nEntidade Relacionamento (ER). 1.13 Nota\\xc3\\xa7\\xc3\\xa3o BPMN. 1.14 Conceitos e ferramentas de DevOps. 1.15 T\\xc3\\xa9cnicas de Integra\\xc3\\xa7\\xc3\\xa3o e \\n\\nImplanta\\xc3\\xa7\\xc3\\xa3o Cont\\xc3\\xadnua de C\\xc3\\xb3digo (CI/CD). 2. Requisitos e Experi\\xc3\\xaancia do Usu\\xc3\\xa1rio. 2.1 Elicita\\xc3\\xa7\\xc3\\xa3o e Gerenciamento de Requisitos, \\n\\ndesign  thinking.  2.2  Hist\\xc3\\xb3rias  do  usu\\xc3\\xa1rio.  2.3  Crit\\xc3\\xa9rios  de  Aceita\\xc3\\xa7\\xc3\\xa3o.  2.4  Lean  UX.  2.5  Minimum  Viable  Product  (MVP).  2.6 \\n\\nPrototipa\\xc3\\xa7\\xc3\\xa3o.  2.7  Projeto  centrado  no  usu\\xc3\\xa1rio  de  software.  2.8  Storytelling.  2.9  An\\xc3\\xa1lise  de  personas  (pap\\xc3\\xa9is,  perfis  etc.)  de \\n\\nusu\\xc3\\xa1rios  de  software.  3.  Arquitetura  de  Aplica\\xc3\\xa7\\xc3\\xb5es.  3.1  Padr\\xc3\\xa3o  arquitetural  Model-View-Controller  (MVC).  3.2  Sistemas  de  N \\n\\ncamadas.  3.3  Microsservi\\xc3\\xa7o.  3.4  Arquitetura  orientada  a  eventos.  3.5  DevOps  e  CI/CD.  3.6  Refatora\\xc3\\xa7\\xc3\\xa3o  e  Moderniza\\xc3\\xa7\\xc3\\xa3o  de \\n\\naplica\\xc3\\xa7\\xc3\\xb5es. 3.7 Pr\\xc3\\xa1ticas \\xc3\\xa1geis. 3.8 Mediate APIs. 3.9 Arquitetura Cloud Native. 3.10 Padr\\xc3\\xb5es de design de software. 3.11 T\\xc3\\xa9cnicas \\n\\nde  componentiza\\xc3\\xa7\\xc3\\xa3o  de  software.  3.12  Padr\\xc3\\xb5es  de  projeto  (design  patterns)  e  anti-patterns.  3.13  Padr\\xc3\\xb5es  de  arquitetura  de \\n\\naplica\\xc3\\xa7\\xc3\\xb5es corporativas (Patterns of Enterprise Applications Architecture). 3.14 Arquitetura de Sistemas WEB e WEB Standards \\n\\n(W3C). 3.15 Arquitetura Orientada a Servi\\xc3\\xa7os (SOA). 3.16 Barramento de Servi\\xc3\\xa7os Corporativos (ESB). 3.17 Interoperabilidade \\n\\nentre aplica\\xc3\\xa7\\xc3\\xb5es. 3.18 Conceitos b\\xc3\\xa1sicos sobre servidores de aplica\\xc3\\xa7\\xc3\\xb5es. 3.19 Conteineriza\\xc3\\xa7\\xc3\\xa3o de Aplica\\xc3\\xa7\\xc3\\xa3o. 3.20 Frameworks \\n\\nde persist\\xc3\\xaancia de dados. 3.21 Mapeamento objeto-relacional. 3.22 Servi\\xc3\\xa7os de mensageria. 3.23 Padr\\xc3\\xb5es: SOAP, REST, XML, \\n\\nXSLT,  UDDI, WSDL,  JSON, RMI,  XML-HttpRequest.  3.24 Solu\\xc3\\xa7\\xc3\\xb5es de  busca  de  dados n\\xc3\\xa3o  estruturados.  3.25  Streaming de \\n\\nDados. 3.26 Arquitetura Publish-Subscribe. 4. Linguagens de Programa\\xc3\\xa7\\xc3\\xa3o. 4.1 Caracter\\xc3\\xadsticas estruturais das linguagens de \\n\\nprograma\\xc3\\xa7\\xc3\\xa3o.  4.2 Orienta\\xc3\\xa7\\xc3\\xa3o a objetos. 4.3 Cole\\xc3\\xa7\\xc3\\xb5es. 4.4 Tipos gen\\xc3\\xa9ricos. 4.5 Threads. 4.6 Escalonamento. 4.7 Primitivas de \\n\\nsincroniza\\xc3\\xa7\\xc3\\xa3o e deadlocks. 4.8 Garbage collector. 4.9 Tratamento de exce\\xc3\\xa7\\xc3\\xb5es. 4.10 Anota\\xc3\\xa7\\xc3\\xb5es. 4.11 T\\xc3\\xa9cnicas de profiling. 4.12 \\n\\nLinguagens de desenvolvimento de interfaces ricas (HTML 5, CSS 3). 4.13 JavaScript. 4.14 Python (vers\\xc3\\xa3o 3.7 ou superior). 4.15 \\n\\n.Net Core (vers\\xc3\\xa3o 5 ou superior). BLOCO II: 1. Qualidade de Software. 1.1 Garantia da qualidade de software. 1.2 Ger\\xc3\\xaancia de \\n\\nconfigura\\xc3\\xa7\\xc3\\xa3o  de  software  (GIT).  1.3  Testes  de  software  (unit\\xc3\\xa1rio,  integra\\xc3\\xa7\\xc3\\xa3o,  funcional,  aceita\\xc3\\xa7\\xc3\\xa3o,  desempenho,  carga, \\n\\nvulnerabilidade). 1.4 T\\xc3\\xa9cnicas para aplica\\xc3\\xa7\\xc3\\xa3o de testes de software (caixa-branca, caixa-preta, regress\\xc3\\xa3o e n\\xc3\\xa3o funcionais). 1.5 \\n\\nFerramentas para automatiza\\xc3\\xa7\\xc3\\xa3o de testes; T\\xc3\\xa9cnicas de refatora\\xc3\\xa7\\xc3\\xa3o de software. 1.6 Tratamento do d\\xc3\\xa9bito t\\xc3\\xa9cnico. 1.7 M\\xc3\\xa9tricas \\n\\nde qualidade de c\\xc3\\xb3digo. 1.8 Code Smell. 1.9 Auditoria de Sistemas. 2 Estrutura de Dados e Algoritmos. 2.1 Tipos b\\xc3\\xa1sicos de \\n\\ndados. 2.2 Tipos abstratos de dados (lista, fila, pilha, \\xc3\\xa1rvore, heap). 2.3 Sub-rotinas: chamadas por endere\\xc3\\xa7o, refer\\xc3\\xaancia e valor. \\n\\n2.4  Algoritmos  para pesquisa e  ordena\\xc3\\xa7\\xc3\\xa3o.  2.5  Algoritmos para determina\\xc3\\xa7\\xc3\\xa3o  de caminho  m\\xc3\\xadnimo. 2.6 Listas  lineares e  suas \\n\\ngeneraliza\\xc3\\xa7\\xc3\\xb5es:  listas  ordenadas,  listas  encadeadas,  pilhas  e  filas;  Vetores  e  matrizes.  2.7  \\xc3\\x81rvores  e  suas  generaliza\\xc3\\xa7\\xc3\\xb5es: \\n\\n\\xc3\\xa1rvores  bin\\xc3\\xa1rias,  \\xc3\\xa1rvores  de  busca,  \\xc3\\xa1rvores  balanceadas  (AVL),  \\xc3\\xa1rvores  B  e  B+.  2.8  Complexidade  de  algoritmos.  2.9 \\n\\nPrograma\\xc3\\xa7\\xc3\\xa3o recursiva. 3 Arquitetura de Dados. 3.1 Modelagem de dados (conceitual, l\\xc3\\xb3gica e f\\xc3\\xadsica). 3.2 Cria\\xc3\\xa7\\xc3\\xa3o e altera\\xc3\\xa7\\xc3\\xa3o \\n\\ndos  modelos  l\\xc3\\xb3gico  e  f\\xc3\\xadsico  de  dados.  3.3  Abordagem  relacional.  3.4  Normaliza\\xc3\\xa7\\xc3\\xa3o  das  estruturas  de  dados.  3.5  Integridade \\n\\nreferencial. 3.6 Metadados. 3.7 Modelagem dimensional. 3.8 Avalia\\xc3\\xa7\\xc3\\xa3o de modelos de dados. 3.9 T\\xc3\\xa9cnicas de engenharia reversa \\n\\npara cria\\xc3\\xa7\\xc3\\xa3o e atualiza\\xc3\\xa7\\xc3\\xa3o de modelos de dados. 3.10 Linguagem de consulta estruturada (SQL). 3.11 Linguagem de defini\\xc3\\xa7\\xc3\\xa3o \\n\\nde dados (DDL). 3.12 Linguagem de manipula\\xc3\\xa7\\xc3\\xa3o de dados (DML). 3.13 Sistema Gerenciador de Banco de Dados (SGBD). 3.14 \\n\\nPropriedades  de  banco  de  dados:  atomicidade,  consist\\xc3\\xaancia,  isolamento  e  durabilidade.  3.15  Independ\\xc3\\xaancia  de  dados.  3.16 \\n\\n \\n\\nP\\xc3\\x9aBLICA \\n\\n32 \\n\\n\\x0c \\nTransa\\xc3\\xa7\\xc3\\xb5es  de  bancos  de  dados.  3.17  Melhoria  de  performance  de  banco  de  dados.  3.18  Bancos  de  dados  NoSQL.  3.19 \\n\\nIntegra\\xc3\\xa7\\xc3\\xa3o dos dados (ETL, Transfer\\xc3\\xaancia de Arquivos e Integra\\xc3\\xa7\\xc3\\xa3o via Base de Dados). 3.20 Banco de dados em mem\\xc3\\xb3ria. 3.21 \\n\\nQualidade de dados e gest\\xc3\\xa3o de dados mestres e de refer\\xc3\\xaancia. 3.22 Data Lakes e Solu\\xc3\\xa7\\xc3\\xb5es para Big Data. 3.23 Diferencia\\xc3\\xa7\\xc3\\xa3o \\n\\nentre bancos relacionais, multidimensionais, documentos e grafos. 4 Computa\\xc3\\xa7\\xc3\\xa3o em Nuvem. 4.1 Conceitos de computa\\xc3\\xa7\\xc3\\xa3o em \\n\\nnuvem:  benef\\xc3\\xadcios,  alta  disponibilidade,  escalabilidade,  elasticidade,  agilidade,  recupera\\xc3\\xa7\\xc3\\xa3o  de  desastres.  4.2  Componentes \\n\\ncentrais  da  arquitetura  em  nuvem:  distribui\\xc3\\xa7\\xc3\\xa3o  geogr\\xc3\\xa1fica,  regi\\xc3\\xb5es,  zonas  de  disponibilidade,  subscri\\xc3\\xa7\\xc3\\xb5es,  grupos  de  gest\\xc3\\xa3o, \\n\\nrecursos. 4.3 Caracter\\xc3\\xadsticas gerais de identidade, privacidade, conformidade e seguran\\xc3\\xa7a na nuvem. 4.4 Gest\\xc3\\xa3o de custos na \\n\\nnuvem: modelos de faturamento, gerenciamento de subscri\\xc3\\xa7\\xc3\\xb5es e contas, defini\\xc3\\xa7\\xc3\\xa3o de pre\\xc3\\xa7o. 4.5 IoT. 4.6 Infrastructure as Code \\n\\n(IaC) e Automa\\xc3\\xa7\\xc3\\xa3o. BLOCO III: 1 Gerenciamento de Produtos de Software. 1.1 Gerenciamento de produtos com m\\xc3\\xa9todos \\xc3\\xa1geis: \\n\\nScrum E Kanban. 1.2 Modelos e t\\xc3\\xa9cnicas de gest\\xc3\\xa3o de portf\\xc3\\xb3lio (SAFe): caracter\\xc3\\xadsticas, objetivos, aplicabilidade e benef\\xc3\\xadcios. 2 \\n\\nAn\\xc3\\xa1lise  de  Dados  e  Informa\\xc3\\xa7\\xc3\\xb5es.  2.1  Dado,  informa\\xc3\\xa7\\xc3\\xa3o,  conhecimento  e  intelig\\xc3\\xaancia.  2.2  Conceitos,  fundamentos, \\n\\ncaracter\\xc3\\xadsticas, t\\xc3\\xa9cnicas e m\\xc3\\xa9todos de business intelligence (BI). 2.3 Mapeamento de fontes de dados. 2.4 Dados estruturados \\n\\ne  dados  n\\xc3\\xa3o  estruturados.  2.5  Conceitos  de  OLAP  e  suas  opera\\xc3\\xa7\\xc3\\xb5es.  2.6  Conceitos  de  data  warehouse.  2.7  T\\xc3\\xa9cnicas  de \\n\\nmodelagem  e  otimiza\\xc3\\xa7\\xc3\\xa3o  de  bases  de  dados  multidimensionais.  2.8  Constru\\xc3\\xa7\\xc3\\xa3o  de  relat\\xc3\\xb3rios  e  dashboards  interativos  em \\n\\nferramentas de BI. 2.9 Manipula\\xc3\\xa7\\xc3\\xa3o de dados em planilhas. 2.10 Gera\\xc3\\xa7\\xc3\\xa3o de insights a partir de relat\\xc3\\xb3rios e dashboards. 2.11 BI \\n\\ncomo suporte a processos de tomada decis\\xc3\\xa3o. 3 Infraestrutura Computacional e Redes. 3.1 Conceitos b\\xc3\\xa1sicos de processamento \\n\\nparalelo  e  distribu\\xc3\\xaddo.  3.2  High  Performance  Computing  (HPC).  3.3  Virtualiza\\xc3\\xa7\\xc3\\xa3o  (computa\\xc3\\xa7\\xc3\\xa3o,  armazenamento,  rede).  3.4 \\n\\nConceitos b\\xc3\\xa1sicos de gerenciamento de filas. 3.5 Gerenciamento de processos. 3.6 Protocolos de rede: TCP/IP, HTTP, HTTPS, \\n\\nFTP,  SMTP,  LDAP,  SSL,  SAML  2.0,  OAuth.  4  Seguran\\xc3\\xa7a  da  Informa\\xc3\\xa7\\xc3\\xa3o.  4.1  Seguran\\xc3\\xa7a  f\\xc3\\xadsica  e  l\\xc3\\xb3gica.  4.2  Opera\\xc3\\xa7\\xc3\\xa3o  de \\n\\nseguran\\xc3\\xa7a  (Firewall,  Proxy,  IPS/IDS,  DLP,  CASB,  SIEM,  Antiv\\xc3\\xadrus,  EDR,  WAF,  Gest\\xc3\\xa3o  de  vulnerabilidades,  Monitora\\xc3\\xa7\\xc3\\xa3o, \\n\\nBackup). 4.3 Softwares maliciosos (ransomware, v\\xc3\\xadrus, worms, spywares, rootkit etc.). 4.4 Ataques (DDoS, SQL Injection, XSS, \\n\\nCSRF, Path Traversal etc.). 4.5 T\\xc3\\xa9cnicas de desenvolvimento seguro, SAST/DAST/IAST. 4.6 VPN. 4.7 MDM. 4.8 SSO. 4.9 MFA. \\n\\n4.10  Gest\\xc3\\xa3o  de  Identidade  e  acesso  (autentica\\xc3\\xa7\\xc3\\xa3o,  autoriza\\xc3\\xa7\\xc3\\xa3o  e  auditoria),  RBAC  e  ABAC.  4.11  Conceitos  gerais: \\n\\nGerenciamento  de  resposta  a  incidente  (NIST  SP  800-61). 4.12  Threat  intel,  threat  hunting.  4.13  Testes de  penetra\\xc3\\xa7\\xc3\\xa3o.  4.14 \\n\\nModelagem de amea\\xc3\\xa7as (STRIDE etc.). 4.15 Conhecimento das T\\xc3\\xa1ticas do  framework Mitre ATT&CK. 4.16 Gest\\xc3\\xa3o de riscos \\n\\n(ISO  31000),  Gest\\xc3\\xa3o  de  Continuidade  de  Neg\\xc3\\xb3cios  (ISO  22301)  e  Lei  Sarbannes-Oxley.  4.17  Pol\\xc3\\xadticas  de  Seguran\\xc3\\xa7a  de \\n\\nInforma\\xc3\\xa7\\xc3\\xa3o. 4.18 Classifica\\xc3\\xa7\\xc3\\xa3o de informa\\xc3\\xa7\\xc3\\xb5es. 4.19 Norma ISO 27002, Criptografia, certifica\\xc3\\xa7\\xc3\\xa3o digital e assinatura digital. 4.20 \\n\\nConceitos de seguran\\xc3\\xa7a em nuvem. 4.21 Seguran\\xc3\\xa7a em IoT. 5 Governan\\xc3\\xa7a de TI. 5.1 Modelos de governan\\xc3\\xa7a de Tecnologia da \\n\\nInforma\\xc3\\xa7\\xc3\\xa3o: caracter\\xc3\\xadsticas, objetivos e benef\\xc3\\xadcios. 5.1 Administra\\xc3\\xa7\\xc3\\xa3o de servi\\xc3\\xa7os de Tecnologia da Informa\\xc3\\xa7\\xc3\\xa3o. 5.3 An\\xc3\\xa1lise de \\n\\nviabilidade t\\xc3\\xa9cnica e econ\\xc3\\xb4mica de solu\\xc3\\xa7\\xc3\\xb5es de Tecnologia da Informa\\xc3\\xa7\\xc3\\xa3o. 5.4 Metodologia de gest\\xc3\\xa3o e governan\\xc3\\xa7a de dados. \\n\\n5.5 Sistemas Integrados de Gest\\xc3\\xa3o (ERP). 5.6 ITIL v4. 5.7 Governan\\xc3\\xa7a de dados utilizando metodologia do DAMA-DMBoK (Data \\n\\nManagement Body of Knowledge). \\n\\n\\xc3\\x8aNFASE 5: ANALISTA DE SISTEMAS \\xe2\\x80\\x93 INFRAESTRUTURA \\xe2\\x80\\x93 BLOCO I: 1 Redes de Computadores e Sistemas Distribu\\xc3\\xaddos. \\n\\n1.1  Arquiteturas  de  rede.  Topologias;  Equipamentos  de  conex\\xc3\\xa3o  e  transmiss\\xc3\\xa3o;  QOS;  Modelo  OSI  da  ISO;  Arquitetura  e \\n\\nprotocolos TCP/IP; N\\xc3\\xadvel de aplica\\xc3\\xa7\\xc3\\xa3o TCP/IP: DNS, FTP, NFS, TELNET, SMTP, HTTP, LDAP, DHCP, IPSEC, SSH, SNMP e \\n\\nNAT; No\\xc3\\xa7\\xc3\\xb5es b\\xc3\\xa1sicas de IPv6. 2  Ambiente UNIX e LINUX. 2.1 Instala\\xc3\\xa7\\xc3\\xa3o e suporte a TCP/IP, DHCP, DNS, NIS, CIFS, NFS, \\n\\nservi\\xc3\\xa7os  de  impress\\xc3\\xa3o  em  rede.  2.2  Instala\\xc3\\xa7\\xc3\\xa3o  e  configura\\xc3\\xa7\\xc3\\xa3o  do  Servidor  Apache.  2.3  Integra\\xc3\\xa7\\xc3\\xa3o  com  ambiente  Windows, \\n\\nLinguagens de Script. 3 Ambiente Microsoft Windows 10. 3.1 Instala\\xc3\\xa7\\xc3\\xa3o e suporte de TCP/IP, DHCP, DNS. 3.2 Active Directory, \\n\\nIIS,  Terminal  Services. 3.3  Servi\\xc3\\xa7os  de  arquivo  e impress\\xc3\\xa3o  em  rede. 3.4  Integra\\xc3\\xa7\\xc3\\xa3o  com  ambiente  Unix.  3.5  Linguagens de \\n\\nScript. 4 Ger\\xc3\\xaancia de Projetos. 4.1 Gerenciamento do ciclo de vida do sistema: determina\\xc3\\xa7\\xc3\\xa3o dos requisitos, projeto l\\xc3\\xb3gico, projeto \\n\\nf\\xc3\\xadsico, teste, implementa\\xc3\\xa7\\xc3\\xa3o. 4.2 O conceito e os objetivos da ger\\xc3\\xaancia de projetos. 4.3 Abertura e defini\\xc3\\xa7\\xc3\\xa3o do escopo de um \\n\\nprojeto.  4.4  Planejamento  de um  projeto. 4.5  Diagrama  de Rede,  Caminho  Cr\\xc3\\xadtico,  Folgas,  Estrutura  Anal\\xc3\\xadtica  do  Projeto.  4.7 \\n\\nExecu\\xc3\\xa7\\xc3\\xa3o, acompanhamento e controle de um projeto. 4.8 Revis\\xc3\\xa3o e avalia\\xc3\\xa7\\xc3\\xa3o de um projeto. 4.9 Fechamento de um projeto. \\n\\n4.10 Metodologias, t\\xc3\\xa9cnicas e ferramentas da ger\\xc3\\xaancia de projetos. 5 Seguran\\xc3\\xa7a da Informa\\xc3\\xa7\\xc3\\xa3o 1. 5.1 Seguran\\xc3\\xa7a f\\xc3\\xadsica e l\\xc3\\xb3gica. \\n\\n5.2  Opera\\xc3\\xa7\\xc3\\xa3o de  seguran\\xc3\\xa7a  (Firewall,  Proxy,  IPS/IDS,  DLP,  CASB, SIEM,  Antiv\\xc3\\xadrus,  EDR, WAF,  Gest\\xc3\\xa3o  de  vulnerabilidades, \\n\\nMonitora\\xc3\\xa7\\xc3\\xa3o, Backup). 5.3 Softwares maliciosos (ransomware, v\\xc3\\xadrus, worms, spywares, rootkit etc.). 5.4 Ataques (DDoS, SQL \\n\\nInjection, XSS, CSRF, Path Traversal etc.). 5.5 T\\xc3\\xa9cnicas de desenvolvimento seguro, SAST/DAST/IAST. 5.6 VPN. 5.7 MDM. 5.8 \\n\\n \\n\\nP\\xc3\\x9aBLICA \\n\\n33 \\n\\n\\x0c \\nSSO.  5.9  MFA.  5.10  Gest\\xc3\\xa3o  de  Identidade  e  acesso  (autentica\\xc3\\xa7\\xc3\\xa3o,  autoriza\\xc3\\xa7\\xc3\\xa3o  e  auditoria),  RBAC  e  ABAC.  6  Conceitos  de \\n\\nStorage  (NAS  e  SAN)  e  Virtualiza\\xc3\\xa7\\xc3\\xa3o.  6.1  Introdu\\xc3\\xa7\\xc3\\xa3o  \\xc3\\xa0  virtualiza\\xc3\\xa7\\xc3\\xa3o.  6.2  Formas  de  virtualiza\\xc3\\xa7\\xc3\\xa3o.  6.3  Virtualiza\\xc3\\xa7\\xc3\\xa3o  de \\n\\ncomputa\\xc3\\xa7\\xc3\\xa3o. 6.4 Virtualiza\\xc3\\xa7\\xc3\\xa3o de rede. 6.5 Virtualiza\\xc3\\xa7\\xc3\\xa3o de armazenamento: Sistemas virtuais de arquivos, sistemas distribu\\xc3\\xaddos, \\n\\ntecnologias.  BLOCO  II:  1  Arquitetura  de  Computadores e Computa\\xc3\\xa7\\xc3\\xa3o  de  Alto  Desempenho.  1.1  Conceitos de concorr\\xc3\\xaancia, \\n\\nparalelismo e computa\\xc3\\xa7\\xc3\\xa3o distribu\\xc3\\xadda. 1.2 Conceitos b\\xc3\\xa1sicos de computa\\xc3\\xa7\\xc3\\xa3o em aglomerados (Cluster) e de computa\\xc3\\xa7\\xc3\\xa3o em \\n\\ngrades (Grids). 1.3 Balanceamento de carga. 1.4 Avalia\\xc3\\xa7\\xc3\\xa3o de desempenho. 1.5 DevOps: Princ\\xc3\\xadpios e Modelos. 1.6 Cont\\xc3\\xaaineres: \\n\\nIntrodu\\xc3\\xa7\\xc3\\xa3o  e  principais  tecnologias  de  cont\\xc3\\xaainer.  1.7  Virtualiza\\xc3\\xa7\\xc3\\xa3o  a  n\\xc3\\xadvel  de  sistema  operacional.  1.8  Diferen\\xc3\\xa7a  entre  a \\n\\nvirtualiza\\xc3\\xa7\\xc3\\xa3o dos cont\\xc3\\xaaineres e os outros tipos de virtualiza\\xc3\\xa7\\xc3\\xa3o. 1.9 Modos de utiliza\\xc3\\xa7\\xc3\\xa3o de um container. 1.10  Microsservi\\xc3\\xa7os: \\n\\nConceitos b\\xc3\\xa1sicos de microsservi\\xc3\\xa7os, arquitetura, componentes de servi\\xc3\\xa7os, servi\\xc3\\xa7os e orquestra\\xc3\\xa7\\xc3\\xa3o. 1.11  Infraestrutura como \\n\\nc\\xc3\\xb3digo.  2  Computa\\xc3\\xa7\\xc3\\xa3o  em  Nuvem.  2.1  Conceitos  de  computa\\xc3\\xa7\\xc3\\xa3o  em  nuvem:  benef\\xc3\\xadcios,  alta  disponibilidade,  escalabilidade, \\n\\nelasticidade, agilidade, recupera\\xc3\\xa7\\xc3\\xa3o de desastres. 2.2 Componentes centrais da arquitetura em nuvem: distribui\\xc3\\xa7\\xc3\\xa3o geogr\\xc3\\xa1fica, \\n\\nregi\\xc3\\xb5es, zonas de disponibilidade, subscri\\xc3\\xa7\\xc3\\xb5es, grupos de gest\\xc3\\xa3o, recursos. 2.3 Caracter\\xc3\\xadsticas gerais de identidade, privacidade, \\n\\nconformidade e seguran\\xc3\\xa7a na nuvem. 2.4 Gest\\xc3\\xa3o de custos na nuvem: modelos de faturamento, gerenciamento de subscri\\xc3\\xa7\\xc3\\xb5es \\n\\ne contas, defini\\xc3\\xa7\\xc3\\xa3o de pre\\xc3\\xa7o. 3. Gerenciamento de Servi\\xc3\\xa7os de TI. 3.1 Fundamentos em Gerenciamento de Servi\\xc3\\xa7os segundo \\n\\nITIL\\xc2\\xae vers\\xc3\\xa3o 3: Ciclo de Vida de Servi\\xc3\\xa7os. 3.2 Processos de Transi\\xc3\\xa7\\xc3\\xa3o e Opera\\xc3\\xa7\\xc3\\xa3o de Servi\\xc3\\xa7os. 3.3 Dom\\xc3\\xadnio dos processos \\n\\nCOBIT  4.1  (processos  do  dom\\xc3\\xadnio  Entrega  de  Servi\\xc3\\xa7o).  BLOCO  III:  1  Seguran\\xc3\\xa7a  da  Informa\\xc3\\xa7\\xc3\\xa3o  2.  1.1  Conceitos  gerais: \\n\\nGerenciamento de resposta a incidente (NIST SP 800-61). 1.2 Threat intel, threat hunting. 1.3 Testes de penetra\\xc3\\xa7\\xc3\\xa3o; Modelagem \\n\\nde  amea\\xc3\\xa7as  (STRIDE  etc.).  1.4  conhecimento  das  T\\xc3\\xa1ticas  do  framework  Mitre  ATT&CK.  1.5  Gest\\xc3\\xa3o  de  riscos  (ISO  31000), \\n\\nGest\\xc3\\xa3o  de  Continuidade  de  Neg\\xc3\\xb3cios  (ISO  22301)  e  Lei  Sarbannes-Oxley.  1.6  Pol\\xc3\\xadticas  de  Seguran\\xc3\\xa7a  de  Informa\\xc3\\xa7\\xc3\\xa3o.  1.7 \\n\\nClassifica\\xc3\\xa7\\xc3\\xa3o  de  informa\\xc3\\xa7\\xc3\\xb5es.  1.8  Norma  ISO  27002,  Criptografia,  certifica\\xc3\\xa7\\xc3\\xa3o  digital  e  assinatura  digital.  1.9  Conceitos  de \\n\\nseguran\\xc3\\xa7a em nuvem. 1.10 Seguran\\xc3\\xa7a em IoT. 2 Banco de Dados. 2.1 Independ\\xc3\\xaancia de dados. 2.2 Abordagem relacional. 2.3 \\n\\nModelagem entidade-relacionamento. 2.4 Gatilhos (triggers) e Procedimentos Armazenados (stored procedures). 2.5 Linguagem \\n\\nSQL.  2.6  Conceitos  de  alta  disponibilidade.  2.7  Ger\\xc3\\xaancia  de  transa\\xc3\\xa7\\xc3\\xb5es.  2.8  Ger\\xc3\\xaancia  de  bloqueios.  2.9  Ger\\xc3\\xaancia  de \\n\\ndesempenho.  3  Programa\\xc3\\xa7\\xc3\\xa3o.  3.1  Algoritmos  e  estruturas  de  dados.  3.2  Depura\\xc3\\xa7\\xc3\\xa3o  de  c\\xc3\\xb3digo  em  Java.  3.2  No\\xc3\\xa7\\xc3\\xb5es  de \\n\\nengenharia de software. 3.3 Linguagem de marca\\xc3\\xa7\\xc3\\xa3o: HTML e XML. 3.4 No\\xc3\\xa7\\xc3\\xb5es de programa\\xc3\\xa7\\xc3\\xa3o em Java (JEE, Servelets, JSP \\n\\ne EJB). 4 Racioc\\xc3\\xadnio L\\xc3\\xb3gico. 4.1 Sentido l\\xc3\\xb3gico-matem\\xc3\\xa1tico convencional dos conectivos. 4.2 Argumentos. 4.3 A l\\xc3\\xb3gica sentencial. \\n\\n4.4 A l\\xc3\\xb3gica de predicados de primeira ordem. 4.5 Regras de forma\\xc3\\xa7\\xc3\\xa3o de f\\xc3\\xb3rmulas. 4.6 Sistemas dedutivos. 4.7 Decidibilidade \\n\\nda l\\xc3\\xb3gica sentencial. 4.8 Valores-verdade. 4.9 Fun\\xc3\\xa7\\xc3\\xb5es de avalia\\xc3\\xa7\\xc3\\xa3o.  \\n\\n\\xc3\\x8aNFASE 6: ANALISTA DE SISTEMAS \\xe2\\x80\\x93 PROCESSOS DE NEG\\xc3\\x93CIO \\xe2\\x80\\x93 BLOCO I: 1. Arquitetura de Dados: 1.1 Modelagem de \\n\\ndados (conceitual, l\\xc3\\xb3gica e f\\xc3\\xadsica). 1.2 Cria\\xc3\\xa7\\xc3\\xa3o e altera\\xc3\\xa7\\xc3\\xa3o dos modelos l\\xc3\\xb3gico e f\\xc3\\xadsico de dados. 1.3 Abordagem relacional. 1.4 \\n\\nNormaliza\\xc3\\xa7\\xc3\\xa3o das estruturas de dados. 1.5 Integridade referencial. 1.6 Metadados. 1.7 Modelagem dimensional. 1.8 Avalia\\xc3\\xa7\\xc3\\xa3o \\n\\nde modelos de dados. 1.8 T\\xc3\\xa9cnicas de engenharia reversa para cria\\xc3\\xa7\\xc3\\xa3o e atualiza\\xc3\\xa7\\xc3\\xa3o de modelos de dados. 1.9 Linguagem de \\n\\nconsulta estruturada (SQL). 1.10 Linguagem de defini\\xc3\\xa7\\xc3\\xa3o de dados (DDL). 1.11 Linguagem de manipula\\xc3\\xa7\\xc3\\xa3o de dados (DML). \\n\\n1.12  Sistema  Gerenciador  de  Banco  de  Dados  (SGBD).  1.13  Propriedades  de  banco  de  dados:  atomicidade,  consist\\xc3\\xaancia, \\n\\nisolamento e durabilidade. 1.14 Independ\\xc3\\xaancia de dados. 1.15 Transa\\xc3\\xa7\\xc3\\xb5es de bancos de dados. 1.16 Melhoria de performance \\n\\nde banco de dados. 1.17 Bancos de dados NoSQL. 1.18 Integra\\xc3\\xa7\\xc3\\xa3o dos dados (ETL, Transfer\\xc3\\xaancia de Arquivos e Integra\\xc3\\xa7\\xc3\\xa3o via \\n\\nBase de Dados). 1.19 Banco de dados em mem\\xc3\\xb3ria. 1.20 Qualidade de dados e gest\\xc3\\xa3o de dados mestres e de refer\\xc3\\xaancia. 1.21 \\n\\nData Lakes e Solu\\xc3\\xa7\\xc3\\xb5es para Big Data. 1.22 Diferencia\\xc3\\xa7\\xc3\\xa3o entre bancos relacionais, multidimensionais, documentos e grafos. 2. \\n\\nGerenciamento de Projetos e Produtos. 2.1 Scrum e Kanban; Gest\\xc3\\xa3o de projeto versus gest\\xc3\\xa3o de produto. Impulso de pr\\xc3\\xa1ticas \\n\\n\\xc3\\xa1geis  em  escala,  gest\\xc3\\xa3o  de  portf\\xc3\\xb3lio  alinhada  \\xc3\\xa0  estrat\\xc3\\xa9gia  de  neg\\xc3\\xb3cios  e  realiza\\xc3\\xa7\\xc3\\xa3o  de  entregas  incrementais  utilizando  a \\n\\nmetodologia safe. PMBOK 6\\xc2\\xaa edi\\xc3\\xa7\\xc3\\xa3o. 2.2 Projetos e a organiza\\xc3\\xa7\\xc3\\xa3o. 2.2 Escrit\\xc3\\xb3rio de projetos. 2.2.1 Modelos e caracter\\xc3\\xadsticas. 3 \\n\\nProcessos, grupos de processos e \\xc3\\xa1rea de conhecimento. BLOCO II: 1 Gest\\xc3\\xa3o e governan\\xc3\\xa7a em TI. 1.1 Conceitos, segmentos \\n\\ne mercado de tecnologia da informa\\xc3\\xa7\\xc3\\xa3o. 1.2 Princ\\xc3\\xadpios de economia da inova\\xc3\\xa7\\xc3\\xa3o. 1.3 Conceitos e perspectivas da tecnologia. \\n\\n1.4  Ci\\xc3\\xaancia,  pesquisa,  desenvolvimento  e  ind\\xc3\\xbastria.  1.5  Conceitos,  disciplinas,  t\\xc3\\xa9cnicas  e  ferramentas  de  gerenciamento  de \\n\\nservi\\xc3\\xa7os de TI. 1.6 Lei Geral de Prote\\xc3\\xa7\\xc3\\xa3o de Dados. 2 Engenharia de software. 2.1 Levantamento, an\\xc3\\xa1lise e gerenciamento de \\n\\nrequisitos.  2.2  Ciclo  de  vida  de  sistemas  e  seus  paradigmas.  2.3  Uso  de  modelos,  metodologias,  t\\xc3\\xa9cnicas  e  ferramentas  de \\n\\nan\\xc3\\xa1lise e projeto de sistemas (paradigma estruturado e paradigma orientado a objetos). 2.4 Verifica\\xc3\\xa7\\xc3\\xa3o, valida\\xc3\\xa7\\xc3\\xa3o e teste. 2.5 \\n\\n \\n\\nP\\xc3\\x9aBLICA \\n\\n34 \\n\\n\\x0c'\n"
          ]
        }
      ]
    },
    {
      "cell_type": "markdown",
      "source": [
        "### Erro em UTF-8"
      ],
      "metadata": {
        "id": "7UVir9_OLLZ7"
      }
    },
    {
      "cell_type": "markdown",
      "source": [
        "## Possibilidade 02 - aspose.words\n",
        "\n"
      ],
      "metadata": {
        "id": "DNx3ItOlL3ZK"
      }
    },
    {
      "cell_type": "code",
      "source": [
        "pip install aspose-words"
      ],
      "metadata": {
        "id": "Rv2ihzjJNLTV",
        "outputId": "15f111cd-1bfd-44a5-d364-f9b353caab79",
        "colab": {
          "base_uri": "https://localhost:8080/"
        }
      },
      "execution_count": 7,
      "outputs": [
        {
          "output_type": "stream",
          "name": "stdout",
          "text": [
            "Requirement already satisfied: aspose-words in /usr/local/lib/python3.7/dist-packages (22.4.0)\n"
          ]
        }
      ]
    },
    {
      "cell_type": "code",
      "source": [
        "import aspose.words as aw\n",
        "\n",
        "doc = aw.Document(\"conteudo_programatico.pdf\")\n",
        "doc.save(\"texto_aspose.txt\")"
      ],
      "metadata": {
        "id": "w42HkaMuL1LM",
        "outputId": "a912e51e-a134-4205-c6c6-acfe7783c495",
        "colab": {
          "base_uri": "https://localhost:8080/"
        }
      },
      "execution_count": 8,
      "outputs": [
        {
          "output_type": "stream",
          "name": "stderr",
          "text": [
            "Exception ignored in: 'FieldInitializationWarning'\n",
            "ImportError: the static field 'transparent' of type 'aspose.pydrawing.Brushes' is not initialized\n",
            "Exception ignored in: 'FieldInitializationWarning'\n",
            "ImportError: the static field 'alice_blue' of type 'aspose.pydrawing.Brushes' is not initialized\n",
            "Exception ignored in: 'FieldInitializationWarning'\n",
            "ImportError: the static field 'antique_white' of type 'aspose.pydrawing.Brushes' is not initialized\n"
          ]
        },
        {
          "output_type": "execute_result",
          "data": {
            "text/plain": [
              "<aspose.words.saving.SaveOutputParameters object at 0x7f97a1b0feb0>"
            ]
          },
          "metadata": {},
          "execution_count": 8
        }
      ]
    },
    {
      "cell_type": "markdown",
      "source": [
        "## Convertendo o arquivo .txt numa lista "
      ],
      "metadata": {
        "id": "H6ahdQEZrD_8"
      }
    },
    {
      "cell_type": "code",
      "source": [
        "# Direcionamento da resolução\n",
        "\n",
        "\n",
        "# https://pt.stackoverflow.com/questions/201560/ficheiro-txt-para-lista-em-python\n",
        "\n",
        "# https://pt.stackoverflow.com/questions/421721/quebrar-linhas-em-um-determinado-espa%C3%A7o-de-caracteres-em-python\n",
        "\n",
        "\n",
        "\n",
        "lista = list(open('texto_aspose.txt','r'))\n",
        "\n",
        "\n",
        "# disciplinas = ['LÍNGUA PORTUGUESA' , 'LÍNGUA INGLESA' , 'ANALISTA DE SISTEMAS – PROCESSOS DE NEGÓCIO' ]\n",
        "\n",
        "\n",
        "# for i in range(4):\n",
        "#   del lista[0]\n",
        "\n",
        "lf1 = []\n",
        "\n",
        "# for i in lista:\n",
        "#    if len(i) > 1:\n",
        "lista = [_str.split(';') for _str in lista]\n",
        "\n",
        "# lista = [_str.split('\\\\n') for _str in lista]\n",
        "\n",
        "\n",
        "print(lista)\n",
        "\n",
        "# for i in lista:\n",
        "#   print(lista)\n",
        "\n",
        "# print(type(lista))\n",
        "\n",
        "\n",
        "# lista = list(lista)\n",
        "\n",
        "\n",
        "# print(lista)"
      ],
      "metadata": {
        "id": "RUQNIMPtrC4b",
        "outputId": "c4d19298-24ad-4dc8-bee4-759fa33a8e4e",
        "colab": {
          "base_uri": "https://localhost:8080/"
        }
      },
      "execution_count": 90,
      "outputs": [
        {
          "output_type": "stream",
          "name": "stdout",
          "text": [
            "[['\\ufeff\\n'], ['Evaluation Only. Created with Aspose.Words. Copyright 2003-2022 Aspose Pty Ltd.\\n'], ['PETRÓLEO BRASILEIRO S.A. - PETROBRAS PSP RH 2021.1 \\n'], ['ANEXO III – OBJETOS DE AVALIAÇÃO  CONHECIMENTOS BÁSICOS  \\n'], ['LÍNGUA PORTUGUESA 1 Compreensão e interpretação de textos de gêneros variados. 2 Reconhecimento de 33 tipos e gêneros textuais. 3 Domínio da ortografia oficial. 4 Domínio dos mecanismos de coesão textual. 4.1 Emprego de elementos de referenciação, substituição e repetição, de conectores e de outros elementos de sequenciação textual. 4.2 Emprego de tempos e modos verbais. 5 Domínio da estrutura morfossintática do período. 5.1 Emprego das classes de palavras. 5.2 Relações de coordenação entre orações e entre termos da oração. 5.3 Relações de subordinação entre orações e entre termos da oração. \\n'], ['5.4 Emprego dos sinais de pontuação. 5.5 Concordância verbal e nominal. 5.6 Regência verbal e nominal. 5.7 Emprego do sinal indicativo de crase. 5.8 Colocação dos pronomes átonos. 6 Reescrita de frases e parágrafos do texto. 6.1 Significação das palavras. 6.2 Substituição de palavras ou de trechos de texto. 6.3 Reorganização da estrutura de orações e de períodos do texto. \\n'], ['6.4 Reescrita de textos de diferentes gêneros e níveis de formalidade. \\n'], ['LÍNGUA INGLESA 1 Compreensão de textos escritos em língua inglesa. 2 Itens gramaticais relevantes para o entendimento dos sentidos dos textos. \\n'], ['CONHECIMENTOS ESPECÍFICOS  \\n'], ['ÊNFASE 1: ADMINISTRAÇÃO – BLOCO I: 1 Estratégia Empresarial: Estruturas Organizacionais, Estratégia Organizacional, Planejamento Estratégico Empresarial. 2 Administração da Produção e Compras: Estratégia de Suprimento (Strategic Sourcing)', ' Administração de Compras', ' Gestão de Estoques: MRP, Ponto de Ressuprimento, Lote Econômico de Compra, Just in Time, Sistema de Rastreamento de Materiais (RFID, Código de Barras e Unique Identification Device)', ' Planejamento e Controle da Produção', ' Gestão da Cadeia de Suprimentos (Supply Chain Management). 3 Administração Mercadológica: Marketing, Marketing B2B, Marketing de Serviços, Pesquisa de Mercado, Planejamento de Marketing, Estratégias de Marketing, Relacionamento com Clientes, Gestão Comercial, Comércio Exterior, Marca, Mídias digitais, Comércio Eletrônico. 4 Administração de Recursos Humanos: Estratégias de RH, Relacionamento com Públicos de Interesse, Remuneração e Benefícios, Desempenho, Cultura Organizacional, Desenvolvimento de RH, Gestão do Conhecimento, Carreira e Sucessão, Liderança e Equipe. 5 Administração Financeira e Orçamentária: Matemática Financeira, Valor do Dinheiro no Tempo, Risco x Retorno, Análise de Investimentos, Alavancagem  e  Endividamento,  Planejamento  Financeiro  e  Orçamentário,  Administração  do  Capital  de  Giro,  Fontes  de Financiamento à Longo Prazo. BLOCO II: 1 Administração de Sistemas de Informação: sistemas operacionais e sistemas de apoio à decisão 2 Contabilidade: Contabilidade Geral, Contabilidade de Custos, Contabilidade Gerencial. 3 Processo Decisório. 4 Sustentabilidade e Responsabilidade Socioambiental. BLOCO III: 1 Lógica: Funções, Análise Combinatória, Progressões, Raciocínio Lógico Quantitativo. 2 Estatística: Probabilidade, Estatística Descritiva. 3 Gerenciamento de Projetos: Ciclo de Vida', ' Estrutura analítica de projeto', ' Estudo de viabilidade técnica e econômica, Gerenciamento das Aquisições do Projeto. 4 Conflitos e Negociação.  \\n'], ['ÊNFASE 2: ANÁLISE – COMÉRCIO E SUPRIMENTO – BLOCO I: 1 Matemática, Matemática Financeira e Estatística: Teoria dos Conjuntos', ' Noções de Lógica Matemática', ' Matrizes', ' Álgebra Linear', ' Cálculo Diferencial e Integral', ' Regra De Três Simples e Composta', '  Percentagens', '  Juros  Simples  e  Compostos', '  Capitalização  e  Desconto', '  VPL  e  TIR', '  Estatística  Descritiva', ' Probabilidade. 2 Economia: Oferta e Demanda', ' Consumidores, Produtores e Eficiência dos Mercados', ' Elasticidade e suas Aplicações. BLOCO II: 1 Logística: Conceitos de Logística', ' Transporte', ' Nível de Serviço', ' Armazenagem e Gestão de Estoques. 2 Marketing: Conceito de Marketing', ' Planejamento de Marketing', ' Segmentação de Clientes, Pacotes de Valor, Comportamento do Comprador B2B, Relacionamento do Cliente, Sistema de Informações de Marketing. 3 Noções de Comércio Exterior. BLOCO III: 1 Química: Funções Orgânicas e Elementares', ' Hidrocarbonetos e sua Nomenclatura', ' Estequiometria de Reações Químicas', ' Funções Inorgânicas (Ácidos, Bases, Sais e Óxidos) e sua Nomenclatura', ' Noções Elementares de Química Geral. 2 Física: Noções de Hidrostática', ' Conversão de Unidades', ' Sistema Internacional', ' Noções Elementares de Termodinâmica (Primeira e Segunda  Leis  da  Termodinâmica)', '  Noções  Elementares  de  Transferência  de  Calor  (Mecanismos  Simples  de  Condução, Convecção e Radiação)', ' Lei da Conservação de Energia', ' Gases Ideais. 3 Temas da atualidade: matriz e transição energética, Geografia econômica.  \\n'], ['ÊNFASE 3: ANÁLISE – TRANSPORTE MARÍTIMO – BLOCO I: 1 O navio como equipamento. 2 Aspectos da gestão náutica (gestão náutica x gestão comercial). 3 Contrato TCP. 4 Contrato VCP. 5 Contrato COA. 6 Contrato BCP. BLOCO II: 1 Seguros. 2 Arbitragem. 3 Compra e venda de navios. 4 Colisões e abalroamentos. 5 Poluição. 6 Responsabilidade Civil. 7 Serviços de apoio ao navio no porto. 8 Mercado mundial de afretamentos. 9 Planejamento de Frota. 10 Avaliação econômica do navio. Normas de Regulamentação Internacional (IMO) referentes à descarbonização do Transporte Marítimo. BLOCO III: 1 Matemática: Lógica', ' Conjuntos', ' Relações', ' Funções', ' Logaritmos', ' Trigonometria. Cálculo Vetorial e Matricial', ' Análise Combinatória', ' Progressões e Sistemas de Numeração. 2 Estatística: Probabilidade e Estatística Descritiva. 3. Matemática Financeira. \\n'], ['ÊNFASE 4: ANALISTA DE SISTEMAS – ENGENHARIA DE SOFTWARE – BLOCO I: 1. Engenharia de Software. 1.1 Modelos de ciclo de vida de software. 1.2 Metodologias de desenvolvimento de software. 1.3 Arquitetura de software. 1.4 Conceitos e técnicas do projeto de software. 1.5 Processos e práticas de desenvolvimento de software. 1.6 Processo interativo e incremental. 1.7 Práticas ágeis de desenvolvimento de software. 1.8 Gerenciamento de ciclo de vida de aplicações. 1.9 Desenvolvimento orientado por comportamento (BDD). 1.10 Desenvolvimento guiado por testes (TDD). 1.11 Integração contínua. 1.12 Diagrama Entidade Relacionamento (ER). 1.13 Notação BPMN. 1.14 Conceitos e ferramentas de DevOps. 1.15 Técnicas de Integração e Implantação Contínua de Código (CI/CD). 2. Requisitos e Experiência do Usuário. 2.1 Elicitação e Gerenciamento de Requisitos, design thinking. 2.2 Histórias do usuário. 2.3 Critérios de Aceitação. 2.4 Lean UX. 2.5 Minimum Viable Product (MVP). 2.6 Prototipação. 2.7 Projeto centrado no usuário de software. 2.8 Storytelling. 2.9 Análise de personas (papéis, perfis etc.) de usuários de software. 3. Arquitetura de Aplicações. 3.1 Padrão arquitetural Model-View-Controller (MVC). 3.2 Sistemas de N camadas. 3.3 Microsserviço. 3.4 Arquitetura orientada a eventos. 3.5 DevOps e CI/CD. 3.6 Refatoração e Modernização de aplicações. 3.7 Práticas ágeis. 3.8 Mediate APIs. 3.9 Arquitetura Cloud Native. 3.10 Padrões de design de software. 3.11 Técnicas de componentização de software. 3.12 Padrões de projeto (design patterns) e anti-patterns. 3.13 Padrões de arquitetura de aplicações corporativas (Patterns of Enterprise Applications Architecture). 3.14 Arquitetura de Sistemas WEB e WEB Standards (W3C). 3.15 Arquitetura Orientada a Serviços (SOA). 3.16 Barramento de Serviços Corporativos (ESB). 3.17 Interoperabilidade entre aplicações. 3.18 Conceitos básicos sobre servidores de aplicações. 3.19 Conteinerização de Aplicação. 3.20 Frameworks de persistência de dados. 3.21 Mapeamento objeto-relacional. 3.22 Serviços de mensageria. 3.23 Padrões: SOAP, REST, XML, XSLT, UDDI, WSDL, JSON, RMI, XML-HttpRequest. 3.24 Soluções de busca de dados não estruturados. 3.25 Streaming de Dados. 3.26 Arquitetura Publish-Subscribe. 4. Linguagens de Programação. 4.1 Características estruturais das linguagens de programação.  4.2 Orientação a objetos. 4.3 Coleções. 4.4 Tipos genéricos. 4.5 Threads. 4.6 Escalonamento. 4.7 Primitivas de sincronização e deadlocks. 4.8 Garbage collector. 4.9 Tratamento de exceções. 4.10 Anotações. 4.11 Técnicas de profiling. 4.12 Linguagens de desenvolvimento de interfaces ricas (HTML 5, CSS 3). 4.13 JavaScript. 4.14 Python (versão 3.7 ou superior). 4.15 .Net Core (versão 5 ou superior). BLOCO II: 1. Qualidade de Software. 1.1 Garantia da qualidade de software. 1.2 Gerência de configuração  de  software  (GIT).  1.3  Testes  de  software  (unitário,  integração,  funcional,  aceitação,  desempenho,  carga, vulnerabilidade). 1.4 Técnicas para aplicação de testes de software (caixa-branca, caixa-preta, regressão e não funcionais). 1.5 Ferramentas para automatização de testes', ' Técnicas de refatoração de software. 1.6 Tratamento do débito técnico. 1.7 Métricas de qualidade de código. 1.8 Code Smell. 1.9 Auditoria de Sistemas. 2 Estrutura de Dados e Algoritmos. 2.1 Tipos básicos de dados. 2.2 Tipos abstratos de dados (lista, fila, pilha, árvore, heap). 2.3 Sub-rotinas: chamadas por endereço, referência e valor. 2.4 Algoritmos para pesquisa e ordenação. 2.5 Algoritmos para determinação de caminho mínimo. 2.6 Listas lineares e suas generalizações: listas ordenadas, listas encadeadas, pilhas e filas', ' Vetores e matrizes. 2.7 Árvores e suas generalizações: árvores  binárias,  árvores  de  busca,  árvores  balanceadas  (AVL),  árvores  B  e  B+.  2.8  Complexidade  de  algoritmos.  2.9 Programação recursiva. 3 Arquitetura de Dados. 3.1 Modelagem de dados (conceitual, lógica e física). 3.2 Criação e alteração dos modelos lógico e físico de dados. 3.3 Abordagem relacional. 3.4 Normalização das estruturas de dados. 3.5 Integridade referencial. 3.6 Metadados. 3.7 Modelagem dimensional. 3.8 Avaliação de modelos de dados. 3.9 Técnicas de engenharia reversa para criação e atualização de modelos de dados. 3.10 Linguagem de consulta estruturada (SQL). 3.11 Linguagem de definição de dados (DDL). 3.12 Linguagem de manipulação de dados (DML). 3.13 Sistema Gerenciador de Banco de Dados (SGBD). 3.14 Propriedades de banco de dados: atomicidade, consistência, isolamento e durabilidade. 3.15 Independência de dados. 3.16 Transações de bancos de dados. 3.17 Melhoria de performance de banco de dados. 3.18 Bancos de dados NoSQL. 3.19 Integração dos dados (ETL, Transferência de Arquivos e Integração via Base de Dados). 3.20 Banco de dados em memória. 3.21 Qualidade de dados e gestão de dados mestres e de referência. 3.22 Data Lakes e Soluções para Big Data. 3.23 Diferenciação entre bancos relacionais, multidimensionais, documentos e grafos. 4 Computação em Nuvem. 4.1 Conceitos de computação em nuvem: benefícios, alta disponibilidade, escalabilidade, elasticidade, agilidade, recuperação de desastres. 4.2 Componentes centrais da arquitetura em nuvem: distribuição geográfica, regiões, zonas de disponibilidade, subscrições, grupos de gestão, recursos. 4.3 Características gerais de identidade, privacidade, conformidade e segurança na nuvem. 4.4 Gestão de custos na nuvem: modelos de faturamento, gerenciamento de subscrições e contas, definição de preço. 4.5 IoT. 4.6 Infrastructure as Code (IaC) e Automação. BLOCO III: 1 Gerenciamento de Produtos de Software. 1.1 Gerenciamento de produtos com métodos ágeis: Scrum E Kanban. 1.2 Modelos e técnicas de gestão de portfólio (SAFe): características, objetivos, aplicabilidade e benefícios. 2 Análise  de  Dados  e  Informações.  2.1  Dado,  informação,  conhecimento  e  inteligência.  2.2  Conceitos,  fundamentos, características, técnicas e métodos de business intelligence (BI). 2.3 Mapeamento de fontes de dados. 2.4 Dados estruturados e dados não estruturados. 2.5 Conceitos de OLAP e suas operações. 2.6 Conceitos de data warehouse. 2.7 Técnicas de modelagem e otimização de bases de dados multidimensionais. 2.8 Construção de relatórios e dashboards interativos em ferramentas de BI. 2.9 Manipulação de dados em planilhas. 2.10 Geração de insights a partir de relatórios e dashboards. 2.11 BI como suporte a processos de tomada decisão. 3 Infraestrutura Computacional e Redes. 3.1 Conceitos básicos de processamento \\n'], ['paralelo e distribuído. 3.2 High Performance Computing (HPC). 3.3 Virtualização (computação, armazenamento, rede). 3.4 Conceitos básicos de gerenciamento de filas. 3.5 Gerenciamento de processos. 3.6 Protocolos de rede: TCP/IP, HTTP, HTTPS, FTP, SMTP, LDAP, SSL, SAML 2.0, OAuth. 4 Segurança da Informação. 4.1 Segurança física e lógica. 4.2 Operação de segurança  (Firewall,  Proxy,  IPS/IDS,  DLP,  CASB,  SIEM,  Antivírus,  EDR, WAF,  Gestão  de  vulnerabilidades,  Monitoração, Backup). 4.3 Softwares maliciosos (ransomware, vírus, worms, spywares, rootkit etc.). 4.4 Ataques (DDoS, SQL Injection, XSS, CSRF, Path Traversal etc.). 4.5 Técnicas de desenvolvimento seguro, SAST/DAST/IAST. 4.6 VPN. 4.7 MDM. 4.8 SSO. 4.9 MFA. 4.10  Gestão  de  Identidade  e  acesso  (autenticação,  autorização  e  auditoria),  RBAC  e  ABAC.  4.11  Conceitos  gerais: Gerenciamento de resposta a incidente (NIST SP 800-61). 4.12 Threat intel, threat hunting. 4.13 Testes de penetração. 4.14 Modelagem de ameaças (STRIDE etc.). 4.15 Conhecimento das Táticas do framework Mitre ATT&CK. 4.16 Gestão de riscos (ISO 31000), Gestão de Continuidade de Negócios (ISO 22301) e Lei Sarbannes-Oxley. 4.17 Políticas de Segurança de Informação. 4.18 Classificação de informações. 4.19 Norma ISO 27002, Criptografia, certificação digital e assinatura digital. 4.20 Conceitos de segurança em nuvem. 4.21 Segurança em IoT. 5 Governança de TI. 5.1 Modelos de governança de Tecnologia da Informação: características, objetivos e benefícios. 5.1 Administração de serviços de Tecnologia da Informação. 5.3 Análise de viabilidade técnica e econômica de soluções de Tecnologia da Informação. 5.4 Metodologia de gestão e governança de dados. \\n'], ['5.5 Sistemas Integrados de Gestão (ERP). 5.6 ITIL v4. 5.7 Governança de dados utilizando metodologia do DAMA-DMBoK (Data Management Body of Knowledge). \\n'], ['ÊNFASE 5: ANALISTA DE SISTEMAS – INFRAESTRUTURA – BLOCO I: 1 Redes de Computadores e Sistemas Distribuídos. \\n'], ['1.1 Arquiteturas de rede. Topologias', ' Equipamentos de conexão e transmissão', ' QOS', ' Modelo OSI da ISO', ' Arquitetura e protocolos TCP/IP', ' Nível de aplicação TCP/IP: DNS, FTP, NFS, TELNET, SMTP, HTTP, LDAP, DHCP, IPSEC, SSH, SNMP e NAT', ' Noções básicas de IPv6. 2 Ambiente UNIX e LINUX. 2.1 Instalação e suporte a TCP/IP, DHCP, DNS, NIS, CIFS, NFS, serviços de impressão em rede. 2.2 Instalação e configuração do Servidor Apache. 2.3 Integração com ambiente Windows, Linguagens de Script. 3 Ambiente Microsoft Windows 10. 3.1 Instalação e suporte de TCP/IP, DHCP, DNS. 3.2 Active Directory, IIS, Terminal Services. 3.3 Serviços de arquivo e impressão em rede. 3.4 Integração com ambiente Unix. 3.5 Linguagens de Script. 4 Gerência de Projetos. 4.1 Gerenciamento do ciclo de vida do sistema: determinação dos requisitos, projeto lógico, projeto físico, teste, implementação. 4.2 O conceito e os objetivos da gerência de projetos. 4.3 Abertura e definição do escopo de um projeto. 4.4 Planejamento de um projeto. 4.5 Diagrama de Rede, Caminho Crítico, Folgas, Estrutura Analítica do Projeto. 4.7 Execução, acompanhamento e controle de um projeto. 4.8 Revisão e avaliação de um projeto. 4.9 Fechamento de um projeto. \\n'], ['4.10 Metodologias, técnicas e ferramentas da gerência de projetos. 5 Segurança da Informação 1. 5.1 Segurança física e lógica. \\n'], ['5.2 Operação de segurança (Firewall, Proxy, IPS/IDS, DLP, CASB, SIEM, Antivírus, EDR, WAF, Gestão de vulnerabilidades, Monitoração, Backup). 5.3 Softwares maliciosos (ransomware, vírus, worms, spywares, rootkit etc.). 5.4 Ataques (DDoS, SQL Injection, XSS, CSRF, Path Traversal etc.). 5.5 Técnicas de desenvolvimento seguro, SAST/DAST/IAST. 5.6 VPN. 5.7 MDM. 5.8 SSO. 5.9 MFA. 5.10 Gestão de Identidade e acesso (autenticação, autorização e auditoria), RBAC e ABAC. 6 Conceitos de Storage  (NAS  e  SAN)  e  Virtualização.  6.1  Introdução  à  virtualização.  6.2  Formas  de  virtualização.  6.3  Virtualização  de computação. 6.4 Virtualização de rede. 6.5 Virtualização de armazenamento: Sistemas virtuais de arquivos, sistemas distribuídos, tecnologias. BLOCO II: 1 Arquitetura de Computadores e Computação de Alto Desempenho. 1.1 Conceitos de concorrência, paralelismo e computação distribuída. 1.2 Conceitos básicos de computação em aglomerados (Cluster) e de computação em grades (Grids). 1.3 Balanceamento de carga. 1.4 Avaliação de desempenho. 1.5 DevOps: Princípios e Modelos. 1.6 Contêineres: Introdução  e  principais  tecnologias  de contêiner.  1.7  Virtualização  a  nível de  sistema  operacional.  1.8  Diferença entre a virtualização dos contêineres e os outros tipos de virtualização. 1.9 Modos de utilização de um container. 1.10 Microsserviços: Conceitos básicos de microsserviços, arquitetura, componentes de serviços, serviços e orquestração. 1.11 Infraestrutura como código. 2 Computação em Nuvem. 2.1 Conceitos de computação em nuvem: benefícios, alta disponibilidade, escalabilidade, elasticidade, agilidade, recuperação de desastres. 2.2 Componentes centrais da arquitetura em nuvem: distribuição geográfica, regiões, zonas de disponibilidade, subscrições, grupos de gestão, recursos. 2.3 Características gerais de identidade, privacidade, conformidade e segurança na nuvem. 2.4 Gestão de custos na nuvem: modelos de faturamento, gerenciamento de subscrições e contas, definição de preço. 3. Gerenciamento de Serviços de TI. 3.1 Fundamentos em Gerenciamento de Serviços segundo ITIL® versão 3: Ciclo de Vida de Serviços. 3.2 Processos de Transição e Operação de Serviços. 3.3 Domínio dos processos COBIT 4.1 (processos do domínio Entrega de Serviço). BLOCO III: 1 Segurança da Informação 2. 1.1 Conceitos gerais: Gerenciamento de resposta a incidente (NIST SP 800-61). 1.2 Threat intel, threat hunting. 1.3 Testes de penetração', ' Modelagem de ameaças (STRIDE etc.). 1.4 conhecimento das Táticas do framework Mitre ATT&CK. 1.5 Gestão de riscos (ISO 31000), Gestão de Continuidade de Negócios (ISO 22301) e Lei Sarbannes-Oxley. 1.6 Políticas de Segurança de Informação. 1.7 Classificação de informações. 1.8 Norma ISO 27002, Criptografia, certificação digital e assinatura digital. 1.9 Conceitos de segurança em nuvem. 1.10 Segurança em IoT. 2 Banco de Dados. 2.1 Independência de dados. 2.2 Abordagem relacional. 2.3 Modelagem entidade-relacionamento. 2.4 Gatilhos (triggers) e Procedimentos Armazenados (stored procedures). 2.5 Linguagem SQL.  2.6  Conceitos  de  alta  disponibilidade.  2.7  Gerência  de  transações.  2.8  Gerência  de  bloqueios.  2.9  Gerência  de desempenho.  3 Programação. 3.1 Algoritmos e estruturas de dados. 3.2 Depuração de código em Java. 3.2 Noções de engenharia de software. 3.3 Linguagem de marcação: HTML e XML. 3.4 Noções de programação em Java (JEE, Servelets, JSP e EJB). 4 Raciocínio Lógico. 4.1 Sentido lógico-matemático convencional dos conectivos. 4.2 Argumentos. 4.3 A lógica sentencial. 4.4 A lógica de predicados de primeira ordem. 4.5 Regras de formação de fórmulas. 4.6 Sistemas dedutivos. 4.7 Decidibilidade da lógica sentencial. 4.8 Valores-verdade. 4.9 Funções de avaliação.  \\n'], ['ÊNFASE 6: ANALISTA DE SISTEMAS – PROCESSOS DE NEGÓCIO – BLOCO I: 1. Arquitetura de Dados: 1.1 Modelagem de dados (conceitual, lógica e física). 1.2 Criação e alteração dos modelos lógico e físico de dados. 1.3 Abordagem relacional. 1.4 Normalização das estruturas de dados. 1.5 Integridade referencial. 1.6 Metadados. 1.7 Modelagem dimensional. 1.8 Avaliação de modelos de dados. 1.8 Técnicas de engenharia reversa para criação e atualização de modelos de dados. 1.9 Linguagem de consulta estruturada (SQL). 1.10 Linguagem de definição de dados (DDL). 1.11 Linguagem de manipulação de dados (DML). 1.12 Sistema Gerenciador de Banco de Dados (SGBD). 1.13 Propriedades de banco de dados: atomicidade, consistência, isolamento e durabilidade. 1.14 Independência de dados. 1.15 Transações de bancos de dados. 1.16 Melhoria de performance de banco de dados. 1.17 Bancos de dados NoSQL. 1.18 Integração dos dados (ETL, Transferência de Arquivos e Integração via Base de Dados). 1.19 Banco de dados em memória. 1.20 Qualidade de dados e gestão de dados mestres e de referência. 1.21 Data Lakes e Soluções para Big Data. 1.22 Diferenciação entre bancos relacionais, multidimensionais, documentos e grafos. 2. Gerenciamento de Projetos e Produtos. 2.1 Scrum e Kanban', ' Gestão de projeto versus gestão de produto. Impulso de práticas ágeis em escala, gestão de portfólio alinhada à estratégia de negócios e realização de entregas incrementais utilizando a metodologia safe. PMBOK 6ª edição. 2.2 Projetos e a organização. 2.2 Escritório de projetos. 2.2.1 Modelos e características. 3 Processos, grupos de processos e área de conhecimento. BLOCO II: 1 Gestão e governança em TI. 1.1 Conceitos, segmentos e mercado de tecnologia da informação. 1.2 Princípios de economia da inovação. 1.3 Conceitos e perspectivas da tecnologia. 1.4 Ciência, pesquisa, desenvolvimento e indústria. 1.5 Conceitos, disciplinas, técnicas e ferramentas de gerenciamento de serviços de TI. 1.6 Lei Geral de Proteção de Dados. 2 Engenharia de software. 2.1 Levantamento, análise e gerenciamento de requisitos. 2.2 Ciclo de vida de sistemas e seus paradigmas. 2.3 Uso de modelos, metodologias, técnicas e ferramentas de análise e projeto de sistemas (paradigma estruturado e paradigma orientado a objetos). 2.4 Verificação, validação e teste. 2.5 \\n'], ['Created with an evaluation copy of Aspose.Words. To discover the full versions of our APIs please visit: https://products.aspose.com/words/\\n'], ['34 \\n'], ['PÚBLICA \\n']]\n"
          ]
        }
      ]
    },
    {
      "cell_type": "markdown",
      "source": [
        "### Exportando arquivo .csv"
      ],
      "metadata": {
        "id": "9kuoEoujPaqr"
      }
    },
    {
      "cell_type": "code",
      "source": [
        "!pip install pandas\n",
        "import pandas as pd"
      ],
      "metadata": {
        "id": "dH7rfPOvPdtj",
        "outputId": "b0ab89d6-a518-4933-854d-b347c49c5fb9",
        "colab": {
          "base_uri": "https://localhost:8080/"
        }
      },
      "execution_count": 83,
      "outputs": [
        {
          "output_type": "stream",
          "name": "stdout",
          "text": [
            "Requirement already satisfied: pandas in /usr/local/lib/python3.7/dist-packages (1.3.5)\n",
            "Requirement already satisfied: python-dateutil>=2.7.3 in /usr/local/lib/python3.7/dist-packages (from pandas) (2.8.2)\n",
            "Requirement already satisfied: pytz>=2017.3 in /usr/local/lib/python3.7/dist-packages (from pandas) (2022.1)\n",
            "Requirement already satisfied: numpy>=1.17.3 in /usr/local/lib/python3.7/dist-packages (from pandas) (1.21.6)\n",
            "Requirement already satisfied: six>=1.5 in /usr/local/lib/python3.7/dist-packages (from python-dateutil>=2.7.3->pandas) (1.12.0)\n"
          ]
        }
      ]
    },
    {
      "cell_type": "code",
      "source": [
        "plano_de_estudos = pd.DataFrame(lista)\n",
        "\n",
        "dict = {'conteudo': lista}\n",
        "\n",
        "df = pd.DataFrame(dict) \n",
        "df.to_csv('test.csv')\n",
        "\n",
        "\n",
        "\n"
      ],
      "metadata": {
        "id": "UGfkZliqReS5"
      },
      "execution_count": 92,
      "outputs": []
    }
  ]
}