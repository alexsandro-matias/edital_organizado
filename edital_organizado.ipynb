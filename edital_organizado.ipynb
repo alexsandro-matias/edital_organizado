{
  "nbformat": 4,
  "nbformat_minor": 0,
  "metadata": {
    "colab": {
      "name": "Untitled11.ipynb",
      "provenance": [],
      "authorship_tag": "ABX9TyPK6LS8PNleVbUhQz/Wjodw",
      "include_colab_link": true
    },
    "kernelspec": {
      "name": "python3",
      "display_name": "Python 3"
    },
    "language_info": {
      "name": "python"
    }
  },
  "cells": [
    {
      "cell_type": "markdown",
      "metadata": {
        "id": "view-in-github",
        "colab_type": "text"
      },
      "source": [
        "<a href=\"https://colab.research.google.com/github/alexsandro-matias/edital_organizado/blob/main/edital_organizado.ipynb\" target=\"_parent\"><img src=\"https://colab.research.google.com/assets/colab-badge.svg\" alt=\"Open In Colab\"/></a>"
      ]
    },
    {
      "cell_type": "markdown",
      "source": [
        "## Importando os módulos necessários para download e leitura do edital."
      ],
      "metadata": {
        "id": "EiRv32v-ADvN"
      }
    },
    {
      "cell_type": "code",
      "source": [
        "import requests\n"
      ],
      "metadata": {
        "id": "Nn01A2E39Po-"
      },
      "execution_count": null,
      "outputs": []
    },
    {
      "cell_type": "markdown",
      "source": [
        "## Realizando o download do arquivo .pdf do edital\n",
        "\n"
      ],
      "metadata": {
        "id": "0BnUY3iL_6q0"
      }
    },
    {
      "cell_type": "code",
      "execution_count": null,
      "metadata": {
        "id": "IdaZ9AB8jglO"
      },
      "outputs": [],
      "source": [
        "link = 'https://cdn.cebraspe.org.br/concursos/petrobras_21_ns/arquivos/ED_1_PETROBRAS_PSP1_2021_ABERTURA.PDF'\n",
        "arquivo_baixado = requests.get(link) \n",
        "with open(\"edital.pdf\",'wb') as f:\n",
        "  f.write(r.content) "
      ]
    }
  ]
}