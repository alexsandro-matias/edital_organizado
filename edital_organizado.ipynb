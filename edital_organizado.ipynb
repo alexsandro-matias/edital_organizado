{
  "nbformat": 4,
  "nbformat_minor": 0,
  "metadata": {
    "colab": {
      "name": "Untitled11.ipynb",
      "provenance": [],
      "authorship_tag": "ABX9TyP9A+siIX7p+TxwOc/AHh9x",
      "include_colab_link": true
    },
    "kernelspec": {
      "name": "python3",
      "display_name": "Python 3"
    },
    "language_info": {
      "name": "python"
    }
  },
  "cells": [
    {
      "cell_type": "markdown",
      "metadata": {
        "id": "view-in-github",
        "colab_type": "text"
      },
      "source": [
        "<a href=\"https://colab.research.google.com/github/alexsandro-matias/edital_organizado/blob/main/edital_organizado.ipynb\" target=\"_parent\"><img src=\"https://colab.research.google.com/assets/colab-badge.svg\" alt=\"Open In Colab\"/></a>"
      ]
    },
    {
      "cell_type": "markdown",
      "source": [
        "## Importando os módulos necessários para download e leitura do edital."
      ],
      "metadata": {
        "id": "EiRv32v-ADvN"
      }
    },
    {
      "cell_type": "code",
      "source": [
        "import requests\n"
      ],
      "metadata": {
        "id": "Nn01A2E39Po-"
      },
      "execution_count": 11,
      "outputs": []
    },
    {
      "cell_type": "markdown",
      "source": [
        "## Realizando o download do arquivo .pdf do edital\n",
        "\n"
      ],
      "metadata": {
        "id": "0BnUY3iL_6q0"
      }
    },
    {
      "cell_type": "code",
      "execution_count": 12,
      "metadata": {
        "id": "IdaZ9AB8jglO"
      },
      "outputs": [],
      "source": [
        "link = 'https://cdn.cebraspe.org.br/concursos/petrobras_21_ns/arquivos/ED_1_PETROBRAS_PSP1_2021_ABERTURA.PDF'\n",
        "arquivo_baixado = requests.get(link) \n",
        "with open(\"edital.pdf\",'wb') as f:\n",
        "  f.write(arquivo_baixado.content) "
      ]
    },
    {
      "cell_type": "markdown",
      "source": [
        "## Reduzindo o edital para somente a quantidade de páginas que tem contém o conteúdo programático"
      ],
      "metadata": {
        "id": "YIc0pd8-FPCi"
      }
    },
    {
      "cell_type": "code",
      "source": [
        "\n",
        "pip install PyPDF2\n"
      ],
      "metadata": {
        "id": "IQzYmsUlFq9k",
        "outputId": "3ee60c46-b18c-40c6-be5b-befc5bb8ef1e",
        "colab": {
          "base_uri": "https://localhost:8080/"
        }
      },
      "execution_count": 13,
      "outputs": [
        {
          "output_type": "stream",
          "name": "stdout",
          "text": [
            "Requirement already satisfied: PyPDF2 in /usr/local/lib/python3.7/dist-packages (1.27.9)\n"
          ]
        }
      ]
    },
    {
      "cell_type": "code",
      "source": [
        "\n",
        "from PyPDF2 import PdfFileWriter, PdfFileReader\n",
        "\n",
        "edital = PdfFileReader(\"edital.pdf\")\n",
        "arquivo_reduzido = PdfFileWriter()\n",
        "\n",
        "inicio = 30\n",
        "final = 35\n",
        "\n",
        "def reduzir_edital(pagina_inicial, pagina_final):\n",
        "    for i in range(pagina_inicial - 1, pagina_final - 1):\n",
        "        arquivo_reduzido.addPage(edital.getPage(i))\n",
        "        with open(\"conteudo_programatico.pdf\", \"wb\") as arquivo_de_saida:\n",
        "            arquivo_reduzido.write(arquivo_de_saida)\n",
        "\n",
        "\n",
        "reduzir_edital(inicio, final)"
      ],
      "metadata": {
        "id": "kYkQ6i5QED0R"
      },
      "execution_count": 14,
      "outputs": []
    }
  ]
}